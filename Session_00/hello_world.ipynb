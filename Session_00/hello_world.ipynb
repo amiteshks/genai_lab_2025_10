{
 "cells": [
  {
   "cell_type": "markdown",
   "id": "d719ac59",
   "metadata": {},
   "source": [
    "## Hello AI World Inetractive Python NoteBook"
   ]
  },
  {
   "cell_type": "code",
   "execution_count": 3,
   "id": "e71039af",
   "metadata": {},
   "outputs": [
    {
     "name": "stdout",
     "output_type": "stream",
     "text": [
      "Hello AI World\n"
     ]
    }
   ],
   "source": [
    "print (\"Hello AI World\")"
   ]
  },
  {
   "cell_type": "code",
   "execution_count": null,
   "id": "c2c33a83",
   "metadata": {},
   "outputs": [],
   "source": []
  }
 ],
 "metadata": {
  "kernelspec": {
   "display_name": "base",
   "language": "python",
   "name": "python3"
  },
  "language_info": {
   "codemirror_mode": {
    "name": "ipython",
    "version": 3
   },
   "file_extension": ".py",
   "mimetype": "text/x-python",
   "name": "python",
   "nbconvert_exporter": "python",
   "pygments_lexer": "ipython3",
   "version": "3.12.7"
  }
 },
 "nbformat": 4,
 "nbformat_minor": 5
}
