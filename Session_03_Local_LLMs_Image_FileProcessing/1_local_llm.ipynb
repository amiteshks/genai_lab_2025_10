{
 "cells": [
  {
   "cell_type": "code",
   "execution_count": 1,
   "id": "20fb6f3d",
   "metadata": {},
   "outputs": [
    {
     "name": "stdout",
     "output_type": "stream",
     "text": [
      "Requirement already satisfied: ollama in /Users/amiteshsinha/Training/10_2025_genai_lab/.venv/lib/python3.13/site-packages (0.6.0)\n",
      "Requirement already satisfied: httpx>=0.27 in /Users/amiteshsinha/Training/10_2025_genai_lab/.venv/lib/python3.13/site-packages (from ollama) (0.28.1)\n",
      "Requirement already satisfied: pydantic>=2.9 in /Users/amiteshsinha/Training/10_2025_genai_lab/.venv/lib/python3.13/site-packages (from ollama) (2.12.3)\n",
      "Requirement already satisfied: anyio in /Users/amiteshsinha/Training/10_2025_genai_lab/.venv/lib/python3.13/site-packages (from httpx>=0.27->ollama) (4.11.0)\n",
      "Requirement already satisfied: certifi in /Users/amiteshsinha/Training/10_2025_genai_lab/.venv/lib/python3.13/site-packages (from httpx>=0.27->ollama) (2025.10.5)\n",
      "Requirement already satisfied: httpcore==1.* in /Users/amiteshsinha/Training/10_2025_genai_lab/.venv/lib/python3.13/site-packages (from httpx>=0.27->ollama) (1.0.9)\n",
      "Requirement already satisfied: idna in /Users/amiteshsinha/Training/10_2025_genai_lab/.venv/lib/python3.13/site-packages (from httpx>=0.27->ollama) (3.11)\n",
      "Requirement already satisfied: h11>=0.16 in /Users/amiteshsinha/Training/10_2025_genai_lab/.venv/lib/python3.13/site-packages (from httpcore==1.*->httpx>=0.27->ollama) (0.16.0)\n",
      "Requirement already satisfied: annotated-types>=0.6.0 in /Users/amiteshsinha/Training/10_2025_genai_lab/.venv/lib/python3.13/site-packages (from pydantic>=2.9->ollama) (0.7.0)\n",
      "Requirement already satisfied: pydantic-core==2.41.4 in /Users/amiteshsinha/Training/10_2025_genai_lab/.venv/lib/python3.13/site-packages (from pydantic>=2.9->ollama) (2.41.4)\n",
      "Requirement already satisfied: typing-extensions>=4.14.1 in /Users/amiteshsinha/Training/10_2025_genai_lab/.venv/lib/python3.13/site-packages (from pydantic>=2.9->ollama) (4.15.0)\n",
      "Requirement already satisfied: typing-inspection>=0.4.2 in /Users/amiteshsinha/Training/10_2025_genai_lab/.venv/lib/python3.13/site-packages (from pydantic>=2.9->ollama) (0.4.2)\n",
      "Requirement already satisfied: sniffio>=1.1 in /Users/amiteshsinha/Training/10_2025_genai_lab/.venv/lib/python3.13/site-packages (from anyio->httpx>=0.27->ollama) (1.3.1)\n",
      "\n",
      "\u001b[1m[\u001b[0m\u001b[34;49mnotice\u001b[0m\u001b[1;39;49m]\u001b[0m\u001b[39;49m A new release of pip is available: \u001b[0m\u001b[31;49m25.1.1\u001b[0m\u001b[39;49m -> \u001b[0m\u001b[32;49m25.3\u001b[0m\n",
      "\u001b[1m[\u001b[0m\u001b[34;49mnotice\u001b[0m\u001b[1;39;49m]\u001b[0m\u001b[39;49m To update, run: \u001b[0m\u001b[32;49mpip install --upgrade pip\u001b[0m\n",
      "Note: you may need to restart the kernel to use updated packages.\n"
     ]
    }
   ],
   "source": [
    "#MacOS / Linux\n",
    "# python -m venv .venv\n",
    "# source .venv/bin/activate\n",
    "\n",
    "# Windows PowerShell\n",
    "# python -m venv .venv\n",
    "# .venv\\Scripts\\Activate.ps1\n",
    "\n",
    "%pip install ollama #install in the .venv \n",
    "\n",
    "# !pip install ollama #install on the OS level\n",
    "\n",
    "# pip install ollama #.py files"
   ]
  },
  {
   "cell_type": "code",
   "execution_count": 6,
   "id": "866b8e79",
   "metadata": {},
   "outputs": [],
   "source": [
    "\n",
    "import ollama\n",
    "\n",
    "def ask_question_local_llm(prompt):\n",
    "\n",
    "    print(f\"User asked: {prompt}\")\n",
    "\n",
    "    # Run a prompt against a local model (e.g., llama3)\n",
    "    response = ollama.chat(\n",
    "        model='llama3',\n",
    "        messages=[\n",
    "            {\"role\": \"system\", \"content\": \"You are a helpful AI assitant - Respond in one line\"},\n",
    "            {\"role\": \"user\", \"content\": prompt}\n",
    "        ]\n",
    "    )\n",
    "    print(f\"LLM response: {response}\")\n",
    "    return response['message']['content']\n"
   ]
  },
  {
   "cell_type": "code",
   "execution_count": 8,
   "id": "0ca0552c",
   "metadata": {},
   "outputs": [
    {
     "name": "stdout",
     "output_type": "stream",
     "text": [
      "User asked: When was Python invented and who invented it?\n",
      "LLM response: model='llama3' created_at='2025-11-01T22:24:29.728355Z' done=True done_reason='stop' total_duration=2162068708 load_duration=67236125 prompt_eval_count=36 prompt_eval_duration=68410333 eval_count=37 eval_duration=2025237042 message=Message(role='assistant', content=\"Python was invented in 1991 by Guido van Rossum, a Dutch computer programmer, and its name is derived from the British comedy group Monty Python's Flying Circus.\", thinking=None, images=None, tool_name=None, tool_calls=None)\n"
     ]
    },
    {
     "data": {
      "text/plain": [
       "\"Python was invented in 1991 by Guido van Rossum, a Dutch computer programmer, and its name is derived from the British comedy group Monty Python's Flying Circus.\""
      ]
     },
     "execution_count": 8,
     "metadata": {},
     "output_type": "execute_result"
    }
   ],
   "source": [
    "response_to_the_function = ask_question_local_llm(\"When was Python invented and who invented it?\")\n",
    "\n",
    "response_to_the_function"
   ]
  },
  {
   "cell_type": "code",
   "execution_count": 5,
   "id": "7064ab55",
   "metadata": {},
   "outputs": [
    {
     "name": "stdout",
     "output_type": "stream",
     "text": [
      "\n",
      "\n",
      "-------------------LOCAL LLM RESPONSE-------------------\n",
      "User asked: how do you read a file in Python?\n",
      "Time taken by Local LLM: 3.650822877883911 seconds\n",
      "\n",
      "Local LLM says: In Python, you can read a file using the `open()` function, which returns a file object that you can then use to read the contents of the file using methods such as `read()`, `readline()`, or `readlines()`.\n",
      "\n",
      "\n",
      "-------------------LOCAL LLM RESPONSE-------------------\n",
      "User asked: how do you do exception handling in Python?\n",
      "Time taken by Local LLM: 3.3019556999206543 seconds\n",
      "\n",
      "Local LLM says: In Python, exception handling is done using the \"try-except\" block, where you enclose code that might raise an error within a \"try\" statement and specify what types of exceptions to catch with \"except\" statements.\n",
      "Exiting...\n"
     ]
    }
   ],
   "source": [
    "import time\n",
    "while True:\n",
    "    # Ask user for a question\n",
    "    user_prompt = input(\"Ask something: \")\n",
    "\n",
    "    if (user_prompt.lower() != 'quit'):\n",
    "\n",
    "        print (\"\\n\\n-------------------LOCAL LLM RESPONSE-------------------\")\n",
    "        start = time.time()\n",
    "        response_local = ask_question_local_llm(user_prompt)\n",
    "        end = time.time()   \n",
    "        print(f\"Time taken by Local LLM: {end - start} seconds\")\n",
    "        print(\"\\nLocal LLM says:\", response_local)        \n",
    "\n",
    "        # add delay of 3 seconds\n",
    "        time.sleep(3)\n",
    "    else:\n",
    "        print(\"Exiting...\")\n",
    "        break    "
   ]
  },
  {
   "cell_type": "code",
   "execution_count": null,
   "id": "370a3762",
   "metadata": {},
   "outputs": [],
   "source": []
  }
 ],
 "metadata": {
  "kernelspec": {
   "display_name": ".venv",
   "language": "python",
   "name": "python3"
  },
  "language_info": {
   "codemirror_mode": {
    "name": "ipython",
    "version": 3
   },
   "file_extension": ".py",
   "mimetype": "text/x-python",
   "name": "python",
   "nbconvert_exporter": "python",
   "pygments_lexer": "ipython3",
   "version": "3.13.5"
  }
 },
 "nbformat": 4,
 "nbformat_minor": 5
}
