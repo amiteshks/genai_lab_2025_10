{
 "cells": [
  {
   "cell_type": "code",
   "execution_count": null,
   "id": "255d8723",
   "metadata": {},
   "outputs": [],
   "source": [
    "%pip install openai pdfplumber python-docx pillow\n",
    "\n",
    "from openai import OpenAI"
   ]
  },
  {
   "cell_type": "code",
   "execution_count": 15,
   "id": "ba0ab86b",
   "metadata": {},
   "outputs": [],
   "source": [
    "import pdfplumber, docx, base64\n",
    "\n",
    "client = OpenAI()"
   ]
  },
  {
   "cell_type": "markdown",
   "id": "ef946cb8",
   "metadata": {},
   "source": [
    "### Extract Information from a PDF\n",
    "Reads text with pdfplumber and sends to GPT-5-nano for summarization."
   ]
  },
  {
   "cell_type": "code",
   "execution_count": null,
   "id": "98211374",
   "metadata": {},
   "outputs": [],
   "source": [
    "\n",
    "pdf_path = \"data/California_Employment_Offer_Letter.pdf\"  \n",
    "\n",
    "def extract_text_from_pdf(path):\n",
    "    text = \"\"\n",
    "    with pdfplumber.open(path) as pdf:\n",
    "        for page in pdf.pages:\n",
    "            t = page.extract_text()\n",
    "            if t:\n",
    "                text += t + \"\\n\"\n",
    "    return text.strip()\n",
    "\n",
    "pdf_text = extract_text_from_pdf(pdf_path)\n",
    "pdf_text"
   ]
  },
  {
   "cell_type": "code",
   "execution_count": null,
   "id": "d9d4b11c",
   "metadata": {},
   "outputs": [],
   "source": [
    "\n",
    "prompt = f\"Extract and summarize key details from this PDF:\\n\\n{pdf_text[:8000]}\"\n",
    "\n",
    "response = client.chat.completions.create(\n",
    "    model=\"gpt-5-nano\",\n",
    "    messages=[\n",
    "        {\"role\": \"system\", \"content\": \"You summarize and extract data from PDF text.\"},\n",
    "        {\"role\": \"user\", \"content\": prompt}\n",
    "    ]\n",
    ")\n",
    "\n",
    "print(\"Extracted Info from PDF:\\n\")\n",
    "print(response.choices[0].message.content)\n"
   ]
  },
  {
   "cell_type": "markdown",
   "id": "505725d3",
   "metadata": {},
   "source": [
    "\n",
    "### Extract Information from a DOCX (Word) File\n",
    "Reads paragraphs and asks GPT-5-nano for key points."
   ]
  },
  {
   "cell_type": "code",
   "execution_count": null,
   "id": "797f5e1c",
   "metadata": {},
   "outputs": [],
   "source": [
    "\n",
    "\n",
    "docx_path = \"data/Project_List.docx\" \n",
    "\n",
    "def extract_text_from_docx(path):\n",
    "    document = docx.Document(path)\n",
    "    return \"\\n\".join([p.text for p in document.paragraphs])\n",
    "\n",
    "docx_text = extract_text_from_docx(docx_path)\n",
    "\n",
    "print (f\"Extracted DOCX Text (first 500 chars):\\n{docx_text[:500]}\\n\")\n",
    "prompt = f\"Extract key points from this DOCX content:\\n\\n{docx_text[:8000]}\""
   ]
  },
  {
   "cell_type": "code",
   "execution_count": null,
   "id": "4ce2f7d7",
   "metadata": {},
   "outputs": [],
   "source": [
    "response = client.chat.completions.create(\n",
    "    model=\"gpt-5-nano\",\n",
    "    messages=[\n",
    "        {\"role\": \"system\", \"content\": \"You summarize and extract structured data from Word documents.\"},\n",
    "        {\"role\": \"user\", \"content\": prompt}\n",
    "    ]\n",
    ")\n",
    "\n",
    "print(\"Extracted Info from DOCX:\\n\")\n",
    "print(response.choices[0].message.content)\n"
   ]
  },
  {
   "cell_type": "code",
   "execution_count": null,
   "id": "0fa16e7d",
   "metadata": {},
   "outputs": [],
   "source": []
  }
 ],
 "metadata": {
  "kernelspec": {
   "display_name": ".venv",
   "language": "python",
   "name": "python3"
  },
  "language_info": {
   "codemirror_mode": {
    "name": "ipython",
    "version": 3
   },
   "file_extension": ".py",
   "mimetype": "text/x-python",
   "name": "python",
   "nbconvert_exporter": "python",
   "pygments_lexer": "ipython3",
   "version": "3.13.5"
  }
 },
 "nbformat": 4,
 "nbformat_minor": 5
}
