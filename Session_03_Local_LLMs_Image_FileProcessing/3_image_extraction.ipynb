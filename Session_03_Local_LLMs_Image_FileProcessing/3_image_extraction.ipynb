{
 "cells": [
  {
   "cell_type": "markdown",
   "id": "65e00909",
   "metadata": {},
   "source": [
    "## Extract Information from an Image\n",
    "Upload any image (invoice, form, screenshot, etc.)"
   ]
  },
  {
   "cell_type": "code",
   "execution_count": null,
   "id": "63560103",
   "metadata": {},
   "outputs": [],
   "source": [
    "import os\n",
    "from dotenv import load_dotenv\n",
    "from openai import OpenAI\n",
    "\n",
    "load_dotenv(override=True, dotenv_path=\"../.env\")\n",
    "my_api_key = os.getenv(\"OPENAI_API_KEY\")\n",
    "\n",
    "client = OpenAI(api_key=my_api_key)\n",
    "\n",
    "import base64\n",
    "\n",
    "image_path1 = \"data/invoice.png\" \n",
    "image_path2 = \"data/office_lease.png\"\n"
   ]
  },
  {
   "cell_type": "code",
   "execution_count": null,
   "id": "fb622104",
   "metadata": {},
   "outputs": [],
   "source": [
    "\n",
    "# Encode image as base64\n",
    "with open(image_path1, \"rb\") as f:\n",
    "    image1_base64 = base64.b64encode(f.read()).decode(\"utf-8\")\n",
    "# Code explanation:\n",
    "    # Converts the binary data into a Base64-encoded string.\n",
    "    # Base64 is a way of representing binary data (like images) using only text characters (A–Z, a–z, 0–9, +, /).\n",
    "    # This is necessary because APIs (like OpenAI’s) can only transmit text, not raw binary files.\n",
    "\n",
    "mime_type = \"image/png\"\n",
    "\n",
    "#Request extraction from image\n",
    "response = client.chat.completions.create(\n",
    "    model=\"gpt-5-nano\",\n",
    "    messages=[\n",
    "        {\n",
    "            \"role\": \"system\",\n",
    "            \"content\": \"You extract and summarize information from invoices or forms.\"\n",
    "        },\n",
    "        {\n",
    "            \"role\": \"user\",\n",
    "            \"content\": [\n",
    "                {\"type\": \"text\", \"text\": \"Extract as many fields, such as Invoice from/Company, Invoice, Invoice information - number, data, due date etc, Invoice product list from this image as a JSON object:\"},\n",
    "                {\"type\": \"image_url\", \"image_url\": {\"url\": f\"data:{mime_type};base64,{image1_base64}\"}}\n",
    "            ]\n",
    "        }\n",
    "    ],\n",
    ")\n",
    "\n",
    "print(\"🧾 Extracted Info from Image:\\n\")\n",
    "print(response.choices[0].message.content)"
   ]
  },
  {
   "cell_type": "code",
   "execution_count": null,
   "id": "dc4fbf0a",
   "metadata": {},
   "outputs": [],
   "source": [
    "\n",
    "# Encode image as base64\n",
    "with open(image_path2, \"rb\") as f:\n",
    "    image2_base64 = base64.b64encode(f.read()).decode(\"utf-8\")\n",
    "\n",
    "mime_type = \"image/png\"\n",
    "\n",
    "# Request extraction from image\n",
    "response = client.chat.completions.create(\n",
    "    model=\"gpt-5-nano\",\n",
    "    messages=[\n",
    "        {\n",
    "            \"role\": \"system\",\n",
    "            \"content\": \"Extract and summarize information from this property for sale flyer.\"\n",
    "        },\n",
    "        {\n",
    "            \"role\": \"user\",\n",
    "            \"content\": [\n",
    "                {\"type\": \"text\", \"text\": \"Extract key fields from this image, such as property title, details etc as a JSON object:\"},\n",
    "                {\"type\": \"image_url\", \"image_url\": {\"url\": f\"data:{mime_type};base64,{image2_base64}\"}}\n",
    "            ]\n",
    "        }\n",
    "    ],\n",
    ")\n",
    "\n",
    "print(\"🧾 Extracted Info from Image:\\n\")\n",
    "print(response.choices[0].message.content)"
   ]
  },
  {
   "cell_type": "code",
   "execution_count": null,
   "id": "02906716",
   "metadata": {},
   "outputs": [],
   "source": []
  }
 ],
 "metadata": {
  "kernelspec": {
   "display_name": ".venv",
   "language": "python",
   "name": "python3"
  },
  "language_info": {
   "codemirror_mode": {
    "name": "ipython",
    "version": 3
   },
   "file_extension": ".py",
   "mimetype": "text/x-python",
   "name": "python",
   "nbconvert_exporter": "python",
   "pygments_lexer": "ipython3",
   "version": "3.13.5"
  }
 },
 "nbformat": 4,
 "nbformat_minor": 5
}
