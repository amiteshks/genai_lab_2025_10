{
 "cells": [
  {
   "cell_type": "code",
   "execution_count": 2,
   "id": "04aa7d71",
   "metadata": {},
   "outputs": [],
   "source": [
    "# %pip install openai python-dotenv"
   ]
  },
  {
   "cell_type": "code",
   "execution_count": 7,
   "id": "998d4cdf",
   "metadata": {},
   "outputs": [],
   "source": [
    "import os\n",
    "from dotenv import load_dotenv"
   ]
  },
  {
   "cell_type": "code",
   "execution_count": 8,
   "id": "6fb797f4",
   "metadata": {},
   "outputs": [
    {
     "name": "stdout",
     "output_type": "stream",
     "text": [
      "sk-pr...B-O0A\n"
     ]
    }
   ],
   "source": [
    "load_dotenv(override=True, dotenv_path=\"../.env\")\n",
    "my_api_key = os.getenv(\"OPENAI_API_KEY\")\n",
    "\n",
    "print (my_api_key[:5] + \"...\" + my_api_key[-5:])\n"
   ]
  },
  {
   "cell_type": "markdown",
   "id": "fd5c4f11",
   "metadata": {},
   "source": [
    "'''\n",
    "gpt-5, gpt-5-mini, gpt-5-nano \n",
    "gpt-4.1, gpt-4.1-mini, gpt-4.1-nano \n",
    "gpt-4o, gpt-4o-mini, gpt-4o-nano "
   ]
  },
  {
   "cell_type": "code",
   "execution_count": 12,
   "id": "d1ae0019",
   "metadata": {},
   "outputs": [],
   "source": [
    "#pip install openai\n",
    "from openai import OpenAI\n",
    "client = OpenAI(api_key=my_api_key)\n",
    "\n",
    "def ask_question(prompt):\n",
    "    print(f\"User asked: {prompt}\")\n",
    "    response = client.chat.completions.create(\n",
    "        model=\"gpt-5-nano\",\n",
    "        messages=[\n",
    "            {\"role\": \"system\", \"content\": \"You are a helpful assistant. Answer as a csv fields title, description, time_data_extracted\"},\n",
    "            {\"role\": \"user\", \"content\": prompt}\n",
    "        ]\n",
    "    )\n",
    "    print (response)\n",
    "    return response.choices[0].message.content  \n",
    "    # response.choices[0].message.content "
   ]
  },
  {
   "cell_type": "code",
   "execution_count": 13,
   "id": "90daaf52",
   "metadata": {},
   "outputs": [
    {
     "name": "stdout",
     "output_type": "stream",
     "text": [
      "User asked: Who was Napoleon Bonaparte?\n",
      "ChatCompletion(id='chatcmpl-CWY6VIc26oQooBnGFtbquuSeR1i3R', choices=[Choice(finish_reason='stop', index=0, logprobs=None, message=ChatCompletionMessage(content='title,description,time_data_extracted\\n\"Napoleon Bonaparte\",\"A French military and political leader who rose to prominence during the French Revolution, became First Consul in 1799 and Emperor from 1804 to 1814 (and briefly in 1815), led the Napoleonic Wars across Europe, implemented the Napoleonic Code, and shaped modern Europe; he was exiled to Elba after his first abdication and to Saint Helena after Waterloo, dying in 1821.\",\"2025-10-31T00:00:00Z\"', refusal=None, role='assistant', annotations=[], audio=None, function_call=None, tool_calls=None))], created=1761873627, model='gpt-5-nano-2025-08-07', object='chat.completion', service_tier='default', system_fingerprint=None, usage=CompletionUsage(completion_tokens=1661, prompt_tokens=36, total_tokens=1697, completion_tokens_details=CompletionTokensDetails(accepted_prediction_tokens=0, audio_tokens=0, reasoning_tokens=1536, rejected_prediction_tokens=0), prompt_tokens_details=PromptTokensDetails(audio_tokens=0, cached_tokens=0)))\n",
      "\n",
      "OpenAI says: title,description,time_data_extracted\n",
      "\"Napoleon Bonaparte\",\"A French military and political leader who rose to prominence during the French Revolution, became First Consul in 1799 and Emperor from 1804 to 1814 (and briefly in 1815), led the Napoleonic Wars across Europe, implemented the Napoleonic Code, and shaped modern Europe; he was exiled to Elba after his first abdication and to Saint Helena after Waterloo, dying in 1821.\",\"2025-10-31T00:00:00Z\"\n"
     ]
    }
   ],
   "source": [
    "# user_prompt = input(\"Ask something: \")\n",
    "user_prompt = \"Who was Napoleon Bonaparte?\"\n",
    "\n",
    "response = ask_question(user_prompt)\n",
    "print(\"\\nOpenAI says:\", response)"
   ]
  },
  {
   "cell_type": "code",
   "execution_count": null,
   "id": "a20d6cd0",
   "metadata": {},
   "outputs": [
    {
     "name": "stdout",
     "output_type": "stream",
     "text": [
      "User asked: how far is Sun from moon?\n",
      "ChatCompletion(id='chatcmpl-CUa7awxlWF7Oeps4Kx8LCHOQxLtEk', choices=[Choice(finish_reason='stop', index=0, logprobs=None, message=ChatCompletionMessage(content='About 150 million kilometers (1 astronomical unit). The Moon is ~384,400 km from Earth, so Sun–Moon distance varies roughly from 149.2 million km (new moon) to 150.0 million km (full moon).', refusal=None, role='assistant', annotations=[], audio=None, function_call=None, tool_calls=None))], created=1761404726, model='gpt-5-nano-2025-08-07', object='chat.completion', service_tier='default', system_fingerprint=None, usage=CompletionUsage(completion_tokens=1146, prompt_tokens=31, total_tokens=1177, completion_tokens_details=CompletionTokensDetails(accepted_prediction_tokens=0, audio_tokens=0, reasoning_tokens=1088, rejected_prediction_tokens=0), prompt_tokens_details=PromptTokensDetails(audio_tokens=0, cached_tokens=0)))\n",
      "\n",
      "OpenAI says: About 150 million kilometers (1 astronomical unit). The Moon is ~384,400 km from Earth, so Sun–Moon distance varies roughly from 149.2 million km (new moon) to 150.0 million km (full moon).\n"
     ]
    }
   ],
   "source": [
    "import time\n",
    "while True:\n",
    "    # Ask user for a question\n",
    "    user_prompt = input(\"Ask something: \")\n",
    "\n",
    "    if (user_prompt.lower() != 'quit'):\n",
    "        # Get and print the response\n",
    "        response = ask_question(user_prompt)\n",
    "        print(\"\\nOpenAI says:\", response)\n",
    "        \n",
    "        # add delay of 3 seconds\n",
    "        time.sleep(3)\n",
    "    else:\n",
    "        print(\"Exiting the loop. Goodbye!\")\n",
    "        break    "
   ]
  },
  {
   "cell_type": "code",
   "execution_count": null,
   "id": "d89438bd",
   "metadata": {},
   "outputs": [],
   "source": []
  }
 ],
 "metadata": {
  "kernelspec": {
   "display_name": ".venv",
   "language": "python",
   "name": "python3"
  },
  "language_info": {
   "codemirror_mode": {
    "name": "ipython",
    "version": 3
   },
   "file_extension": ".py",
   "mimetype": "text/x-python",
   "name": "python",
   "nbconvert_exporter": "python",
   "pygments_lexer": "ipython3",
   "version": "3.13.5"
  }
 },
 "nbformat": 4,
 "nbformat_minor": 5
}
