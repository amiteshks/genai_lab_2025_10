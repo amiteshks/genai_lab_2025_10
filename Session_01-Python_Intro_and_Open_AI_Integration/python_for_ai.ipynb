{
 "cells": [
  {
   "cell_type": "markdown",
   "id": "94eac6fd",
   "metadata": {},
   "source": [
    "## Print Statements"
   ]
  },
  {
   "cell_type": "code",
   "execution_count": 1,
   "id": "71451b41",
   "metadata": {},
   "outputs": [
    {
     "name": "stdout",
     "output_type": "stream",
     "text": [
      "Hello AI World\n"
     ]
    }
   ],
   "source": [
    "print (\"Hello AI World\")"
   ]
  },
  {
   "cell_type": "code",
   "execution_count": 2,
   "id": "ec169e7e",
   "metadata": {},
   "outputs": [
    {
     "name": "stdout",
     "output_type": "stream",
     "text": [
      "Alice scored 95 in the test.\n"
     ]
    }
   ],
   "source": [
    "name = \"Alice\"\n",
    "score = 95\n",
    "print(f\"{name} scored {score} in the test.\")  # Output: Alice scored 95 in the test.\n"
   ]
  },
  {
   "cell_type": "code",
   "execution_count": 3,
   "id": "f0669f22",
   "metadata": {},
   "outputs": [
    {
     "name": "stdout",
     "output_type": "stream",
     "text": [
      "Name: Alice , score: 95\n"
     ]
    }
   ],
   "source": [
    "print(\"Name:\", name, \", score:\", score)"
   ]
  },
  {
   "cell_type": "code",
   "execution_count": 5,
   "id": "4f08467e",
   "metadata": {},
   "outputs": [
    {
     "name": "stdout",
     "output_type": "stream",
     "text": [
      "Hello john2\n",
      "Hello john2\n"
     ]
    }
   ],
   "source": [
    "name = input(\"Enter your name: \")\n",
    "print(\"Hello\", name)\n",
    "print(f\"Hello {name}\")\n"
   ]
  },
  {
   "cell_type": "code",
   "execution_count": 7,
   "id": "99002482",
   "metadata": {},
   "outputs": [
    {
     "name": "stdout",
     "output_type": "stream",
     "text": [
      "Hello 25\n",
      "Hello, 25\n"
     ]
    }
   ],
   "source": [
    "age_str = input(\"Enter your age: \")\n",
    "age = int(age_str)\n",
    "print(\"Hello\", age)\n",
    "print(f\"Hello, {age}\")"
   ]
  },
  {
   "cell_type": "code",
   "execution_count": 8,
   "id": "92a08571",
   "metadata": {},
   "outputs": [
    {
     "name": "stdout",
     "output_type": "stream",
     "text": [
      "<class 'int'>\n",
      "25.0\n",
      "25\n"
     ]
    }
   ],
   "source": [
    "print(type(age))  # <class 'int'>\n",
    "print(float(age))  # Converts int to float\n",
    "print(str(age)) # Converts int to string\n",
    "\n"
   ]
  },
  {
   "cell_type": "markdown",
   "id": "19b118b5",
   "metadata": {},
   "source": [
    "## Control Flow "
   ]
  },
  {
   "cell_type": "code",
   "execution_count": 10,
   "id": "e53c2e45",
   "metadata": {},
   "outputs": [
    {
     "name": "stdout",
     "output_type": "stream",
     "text": [
      "x is greater than 5\n"
     ]
    }
   ],
   "source": [
    "x = 10\n",
    "if x > 5:\n",
    "\tprint(\"x is greater than 5\")\n"
   ]
  },
  {
   "cell_type": "code",
   "execution_count": 11,
   "id": "ce8dc23e",
   "metadata": {},
   "outputs": [
    {
     "name": "stdout",
     "output_type": "stream",
     "text": [
      "x is not greater than 5\n"
     ]
    }
   ],
   "source": [
    "x = 3\n",
    "if x > 5:\n",
    "\tprint(\"x is greater than 5\")\n",
    "else:\n",
    "\tprint(\"x is not greater than 5\")\n"
   ]
  },
  {
   "cell_type": "code",
   "execution_count": 9,
   "id": "cfe60775",
   "metadata": {},
   "outputs": [
    {
     "name": "stdout",
     "output_type": "stream",
     "text": [
      "Grade: B\n"
     ]
    }
   ],
   "source": [
    "score = 85\n",
    "\n",
    "if score >= 90:\n",
    "\tprint(\"Grade: A\")\n",
    "elif score >= 80:\n",
    "\tprint(\"Grade: B\")\n",
    "elif score >= 70:\n",
    "\tprint(\"Grade: C\")\n",
    "else:\n",
    "\tprint(\"Grade: D or below\")\n"
   ]
  },
  {
   "cell_type": "code",
   "execution_count": 12,
   "id": "a0666fc3",
   "metadata": {},
   "outputs": [
    {
     "name": "stdout",
     "output_type": "stream",
     "text": [
      "1\n",
      "2\n",
      "3\n",
      "4\n",
      "5\n"
     ]
    }
   ],
   "source": [
    "# Syntax:\n",
    "# while condition:\n",
    "\n",
    "i = 1\n",
    "while i <= 5:\n",
    "\tprint(i)\n",
    "\ti += 1\n"
   ]
  },
  {
   "cell_type": "code",
   "execution_count": 13,
   "id": "866b7a75",
   "metadata": {},
   "outputs": [
    {
     "name": "stdout",
     "output_type": "stream",
     "text": [
      "This will run forever unless you break it!\n"
     ]
    }
   ],
   "source": [
    "while True:\n",
    "\tprint(\"This will run forever unless you break it!\")\n",
    "\tbreak  # Add break to stop it\n"
   ]
  },
  {
   "cell_type": "code",
   "execution_count": null,
   "id": "133ee4d1",
   "metadata": {},
   "outputs": [
    {
     "name": "stdout",
     "output_type": "stream",
     "text": [
      "Exiting the loop. Goodbye!\n"
     ]
    }
   ],
   "source": [
    "import time\n",
    "while True:\n",
    "    # Ask user for a question\n",
    "    user_prompt = input(\"Ask something: \")\n",
    "\n",
    "    if (user_prompt.lower() != 'quit'):\n",
    "        # Get and print the response\n",
    "        response = \"FAKE RESPONSE FROM OPENAI FOR: \" + user_prompt\n",
    "        print(\"\\nOpenAI says:\", response)\n",
    "        \n",
    "        # add delay of 3 seconds\n",
    "        time.sleep(3)\n",
    "    else:\n",
    "        print(\"Exiting the loop. Goodbye!\")\n",
    "        break    \n",
    "\n",
    "\n",
    "    "
   ]
  },
  {
   "cell_type": "code",
   "execution_count": null,
   "id": "705730f4",
   "metadata": {},
   "outputs": [],
   "source": []
  }
 ],
 "metadata": {
  "kernelspec": {
   "display_name": ".venv",
   "language": "python",
   "name": "python3"
  },
  "language_info": {
   "codemirror_mode": {
    "name": "ipython",
    "version": 3
   },
   "file_extension": ".py",
   "mimetype": "text/x-python",
   "name": "python",
   "nbconvert_exporter": "python",
   "pygments_lexer": "ipython3",
   "version": "3.13.5"
  }
 },
 "nbformat": 4,
 "nbformat_minor": 5
}
