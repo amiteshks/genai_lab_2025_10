{
 "cells": [
  {
   "cell_type": "markdown",
   "id": "96c5e894",
   "metadata": {},
   "source": [
    "## Exception Handling\n"
   ]
  },
  {
   "cell_type": "code",
   "execution_count": 3,
   "id": "4611f77d",
   "metadata": {},
   "outputs": [],
   "source": [
    "person = {\n",
    "\t\"name\": \"Alice\",\n",
    "\t\"age\": 30,\n",
    "\t\"is_student\": False\n",
    "}"
   ]
  },
  {
   "cell_type": "code",
   "execution_count": 5,
   "id": "3e036e7f",
   "metadata": {},
   "outputs": [
    {
     "name": "stdout",
     "output_type": "stream",
     "text": [
      "Error in removing key: 'is_student'\n"
     ]
    },
    {
     "data": {
      "text/plain": [
       "{'name': 'Alice', 'age': 30}"
      ]
     },
     "execution_count": 5,
     "metadata": {},
     "output_type": "execute_result"
    }
   ],
   "source": [
    "\n",
    "#Try Catch\n",
    "#Try Except\n",
    "try:\n",
    "    del person[\"is_student\"]\n",
    "except Exception as e:\n",
    "    print(f\"Error in removing key: {e}\")\n",
    "    \n",
    "person\t\n"
   ]
  },
  {
   "cell_type": "code",
   "execution_count": 2,
   "id": "0fb96071",
   "metadata": {},
   "outputs": [
    {
     "name": "stdout",
     "output_type": "stream",
     "text": [
      "Error: division by zero\n"
     ]
    }
   ],
   "source": [
    "try:\n",
    "    a = 10\n",
    "    b = 0\n",
    "    print (a/b)\n",
    "except Exception as e:\n",
    "    print(f\"Error: {e}\")"
   ]
  },
  {
   "cell_type": "code",
   "execution_count": 3,
   "id": "74eb36af",
   "metadata": {},
   "outputs": [
    {
     "name": "stdout",
     "output_type": "stream",
     "text": [
      "{'name': 'Alice', 'age': 30}\n",
      "30\n",
      "{'name': 'Alice'}\n"
     ]
    }
   ],
   "source": [
    "print(person)\n",
    "print(person.pop(\"age\"))\n",
    "print(person)"
   ]
  },
  {
   "cell_type": "code",
   "execution_count": null,
   "id": "fc8e9c4d",
   "metadata": {},
   "outputs": [],
   "source": []
  }
 ],
 "metadata": {
  "kernelspec": {
   "display_name": ".venv",
   "language": "python",
   "name": "python3"
  },
  "language_info": {
   "codemirror_mode": {
    "name": "ipython",
    "version": 3
   },
   "file_extension": ".py",
   "mimetype": "text/x-python",
   "name": "python",
   "nbconvert_exporter": "python",
   "pygments_lexer": "ipython3",
   "version": "3.13.5"
  }
 },
 "nbformat": 4,
 "nbformat_minor": 5
}
