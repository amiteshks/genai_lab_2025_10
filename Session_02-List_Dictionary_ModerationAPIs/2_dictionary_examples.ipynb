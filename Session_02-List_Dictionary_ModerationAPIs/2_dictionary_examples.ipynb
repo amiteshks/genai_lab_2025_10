{
 "cells": [
  {
   "cell_type": "code",
   "execution_count": 6,
   "id": "8fce9034",
   "metadata": {},
   "outputs": [
    {
     "name": "stdout",
     "output_type": "stream",
     "text": [
      "name : Alice\n",
      "age : 30\n",
      "is_student : False\n"
     ]
    }
   ],
   "source": [
    "person = {\n",
    "\t\"name\": \"Alice\",\n",
    "\t\"age\": 30,\n",
    "\t\"is_student\": False\n",
    "}\n",
    "\n",
    "for key in person:\n",
    "\tprint(key, \":\", person[key])\n"
   ]
  },
  {
   "cell_type": "code",
   "execution_count": null,
   "id": "91976c24",
   "metadata": {},
   "outputs": [],
   "source": [
    "\n",
    "#Person is a dictionary, name is a key\n",
    "\n",
    "\n",
    "print(person[\"name\"]) #Alice\n",
    "print (person.get(\"name\", \"UNKNOWN\")) #Alice\n",
    "\n",
    "\n",
    "print(person[\"age\"])\n",
    "print(person[\"is_student\"])\n",
    "\n",
    "print(person.get(\"name\"))  \n",
    "print(person.get(\"age\"))  \n",
    "print(person.get(\"is_student\"))  \n",
    "\n"
   ]
  },
  {
   "cell_type": "code",
   "execution_count": 4,
   "id": "6c871766",
   "metadata": {},
   "outputs": [
    {
     "name": "stdout",
     "output_type": "stream",
     "text": [
      "None\n",
      "1 ABC Street\n"
     ]
    }
   ],
   "source": [
    "print(person.get(\"address\"))  \n",
    "print(person.get(\"address\", \"1 ABC Street\")) \n",
    "\n",
    "# person[\"address\"]"
   ]
  },
  {
   "cell_type": "code",
   "execution_count": 3,
   "id": "741552b0",
   "metadata": {},
   "outputs": [
    {
     "data": {
      "text/plain": [
       "{'name': 'Alice', 'age': 31, 'is_student': False}"
      ]
     },
     "execution_count": 3,
     "metadata": {},
     "output_type": "execute_result"
    }
   ],
   "source": [
    "person[\"age\"] = 31\n",
    "person"
   ]
  },
  {
   "cell_type": "code",
   "execution_count": 4,
   "id": "1f642ecc",
   "metadata": {},
   "outputs": [
    {
     "data": {
      "text/plain": [
       "{'name': 'Alice', 'age': 31, 'is_student': False}"
      ]
     },
     "execution_count": 4,
     "metadata": {},
     "output_type": "execute_result"
    }
   ],
   "source": [
    "person"
   ]
  },
  {
   "cell_type": "code",
   "execution_count": 5,
   "id": "c4889faa",
   "metadata": {},
   "outputs": [],
   "source": [
    "del person[\"is_student\"]"
   ]
  },
  {
   "cell_type": "code",
   "execution_count": 6,
   "id": "ad64d7e3",
   "metadata": {},
   "outputs": [
    {
     "data": {
      "text/plain": [
       "{'name': 'Alice', 'age': 31}"
      ]
     },
     "execution_count": 6,
     "metadata": {},
     "output_type": "execute_result"
    }
   ],
   "source": [
    "person"
   ]
  },
  {
   "cell_type": "code",
   "execution_count": 7,
   "id": "7cb50fd5",
   "metadata": {},
   "outputs": [
    {
     "name": "stdout",
     "output_type": "stream",
     "text": [
      "[30, 20]\n",
      "30\n",
      "20\n"
     ]
    }
   ],
   "source": [
    "person_1 = {\n",
    "\t\"name\": \"Alice\",\n",
    "\t\"age\": 30,\n",
    "\t\"is_student\": False\n",
    "}\n",
    "\n",
    "person_2 = {\n",
    "\t\"name\": \"Jim\",\n",
    "\t\"age\": 20,\n",
    "\t\"is_student\": True\n",
    "}\n",
    "\n",
    "classroom = [person_1, person_2]\n",
    "classroom\n",
    "\n",
    "# Give me ages for all persons in the classroom\n",
    "ages = [person[\"age\"] for person in classroom]\n",
    "print(ages)\n",
    "\n",
    "for person in classroom:\n",
    "    print(person[\"age\"])"
   ]
  },
  {
   "cell_type": "markdown",
   "id": "96c5e894",
   "metadata": {},
   "source": [
    "## Exception Handling\n"
   ]
  },
  {
   "cell_type": "code",
   "execution_count": 8,
   "id": "4611f77d",
   "metadata": {},
   "outputs": [],
   "source": [
    "try:\n",
    "    del person[\"is_student\"]\n",
    "except Exception as e:\n",
    "    print(f\"Error in removing key: {e}\")\n"
   ]
  },
  {
   "cell_type": "code",
   "execution_count": 9,
   "id": "0fb96071",
   "metadata": {},
   "outputs": [
    {
     "name": "stdout",
     "output_type": "stream",
     "text": [
      "Error: division by zero\n"
     ]
    }
   ],
   "source": [
    "try:\n",
    "    a = 10\n",
    "    b = 0\n",
    "    print (a/b)\n",
    "except Exception as e:\n",
    "    print(f\"Error: {e}\")"
   ]
  },
  {
   "cell_type": "code",
   "execution_count": 10,
   "id": "74eb36af",
   "metadata": {},
   "outputs": [
    {
     "name": "stdout",
     "output_type": "stream",
     "text": [
      "{'name': 'Jim', 'age': 20}\n",
      "20\n",
      "{'name': 'Jim'}\n"
     ]
    }
   ],
   "source": [
    "print(person)\n",
    "print(person.pop(\"age\"))\n",
    "print(person)"
   ]
  },
  {
   "cell_type": "code",
   "execution_count": null,
   "id": "fc8e9c4d",
   "metadata": {},
   "outputs": [
    {
     "name": "stdout",
     "output_type": "stream",
     "text": [
      "name : Alice\n",
      "age : 30\n",
      "is_student : False\n",
      "name : Mark\n",
      "age : 34\n",
      "is_student : False\n"
     ]
    }
   ],
   "source": [
    "person1 = {\n",
    "\t\"name\": \"Alice\",\n",
    "\t\"age\": 30,\n",
    "\t\"is_student\": False\n",
    "}\n",
    "person2 = {\n",
    "\t\"name\": \"Mark\",\n",
    "\t\"age\": 34,\n",
    "\t\"is_student\": False\n",
    "}\n",
    "persons = [person1, person2] #List of dictionaries\n",
    "\n",
    "for person in persons:\n",
    "    for key in person:\n",
    "\t    print(key, \":\", person[key])\n",
    "\n",
    "\n"
   ]
  }
 ],
 "metadata": {
  "kernelspec": {
   "display_name": ".venv",
   "language": "python",
   "name": "python3"
  },
  "language_info": {
   "codemirror_mode": {
    "name": "ipython",
    "version": 3
   },
   "file_extension": ".py",
   "mimetype": "text/x-python",
   "name": "python",
   "nbconvert_exporter": "python",
   "pygments_lexer": "ipython3",
   "version": "3.13.5"
  }
 },
 "nbformat": 4,
 "nbformat_minor": 5
}
