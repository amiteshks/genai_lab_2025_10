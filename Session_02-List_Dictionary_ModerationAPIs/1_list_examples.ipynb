{
 "cells": [
  {
   "cell_type": "code",
   "execution_count": null,
   "id": "c826fc8d",
   "metadata": {},
   "outputs": [],
   "source": [
    "numbers = [20, 10, 30, 5, 50]\n",
    "numbers[::-1]"
   ]
  },
  {
   "cell_type": "code",
   "execution_count": null,
   "id": "8d5744e4",
   "metadata": {},
   "outputs": [],
   "source": [
    "print(numbers[1:])\n",
    "print(numbers[0:3]) #3rd index is excluded\n",
    "print(numbers[::-1])\n",
    "\n",
    "print(numbers[-1])\n",
    "print(numbers[0])\n",
    "print(numbers[0:2])"
   ]
  },
  {
   "cell_type": "code",
   "execution_count": null,
   "id": "8740e6fc",
   "metadata": {},
   "outputs": [],
   "source": [
    "print (numbers)\n",
    "\n",
    "for x in numbers:   \n",
    "    print (x*x)\n",
    "\n",
    "#for variable in sequence    \n",
    "squares = [x*x for x in numbers]\n",
    "print (squares)\n",
    "\n"
   ]
  },
  {
   "cell_type": "code",
   "execution_count": null,
   "id": "7c49cd60",
   "metadata": {},
   "outputs": [],
   "source": [
    "# Create a function that accepts a list and returns Squares of the numbers\n",
    "def list_squares(input_list):\n",
    "    print(\"Input List is:\", input_list)\n",
    "    return_val = [x*x for x in input_list]\n",
    "    return return_val\n",
    "\n",
    "list_squares(numbers)"
   ]
  },
  {
   "cell_type": "code",
   "execution_count": null,
   "id": "c1b28265",
   "metadata": {},
   "outputs": [],
   "source": [
    "sorted_list = sorted(numbers, reverse=True)\n",
    "sorted_list"
   ]
  },
  {
   "cell_type": "code",
   "execution_count": null,
   "id": "4f256516",
   "metadata": {},
   "outputs": [],
   "source": [
    "max(numbers), min(numbers), sum(numbers)"
   ]
  },
  {
   "cell_type": "code",
   "execution_count": null,
   "id": "220ddfed",
   "metadata": {},
   "outputs": [],
   "source": [
    "len(numbers)"
   ]
  },
  {
   "cell_type": "code",
   "execution_count": null,
   "id": "5f6ee542",
   "metadata": {},
   "outputs": [],
   "source": [
    "for i in range(0, 5, 1): # start, end(excluded), step\n",
    "    print(numbers[i])"
   ]
  },
  {
   "cell_type": "code",
   "execution_count": null,
   "id": "56d38d37",
   "metadata": {},
   "outputs": [],
   "source": [
    "for i in range(0, 20, 1):\n",
    "    if (i % 2 != 0):\n",
    "        print(f\"Odd: {i}\")\n",
    "    else:\n",
    "        print(f\"Even: {i}\")"
   ]
  },
  {
   "cell_type": "code",
   "execution_count": null,
   "id": "bf1a39a2",
   "metadata": {},
   "outputs": [],
   "source": [
    "fruits = [\"apple\", \"banana\", \"cherry\"]\n",
    "for fruit in fruits:\n",
    "\tprint(fruit)"
   ]
  },
  {
   "cell_type": "code",
   "execution_count": null,
   "id": "18384405",
   "metadata": {},
   "outputs": [],
   "source": [
    "for char in \"Python\":\n",
    "\tprint(char)"
   ]
  },
  {
   "cell_type": "code",
   "execution_count": null,
   "id": "36f044b1",
   "metadata": {},
   "outputs": [],
   "source": [
    "for i in range(5):  # From 0 to 4\n",
    "\tprint(i)\n",
    "for i in range(1, 10, 1):  # From 1 to 9 with step of 1\n",
    "\tprint(i)"
   ]
  },
  {
   "cell_type": "code",
   "execution_count": null,
   "id": "72e4b617",
   "metadata": {},
   "outputs": [],
   "source": []
  }
 ],
 "metadata": {
  "kernelspec": {
   "display_name": ".venv",
   "language": "python",
   "name": "python3"
  },
  "language_info": {
   "codemirror_mode": {
    "name": "ipython",
    "version": 3
   },
   "file_extension": ".py",
   "mimetype": "text/x-python",
   "name": "python",
   "nbconvert_exporter": "python",
   "pygments_lexer": "ipython3",
   "version": "3.13.5"
  }
 },
 "nbformat": 4,
 "nbformat_minor": 5
}
