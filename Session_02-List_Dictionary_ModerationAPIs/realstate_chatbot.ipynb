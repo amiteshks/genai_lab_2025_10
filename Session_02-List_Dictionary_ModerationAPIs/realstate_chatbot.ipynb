{
 "cells": [
  {
   "cell_type": "code",
   "execution_count": null,
   "id": "04aa7d71",
   "metadata": {},
   "outputs": [
    {
     "name": "stdout",
     "output_type": "stream",
     "text": [
      "Requirement already satisfied: openai in /Users/amiteshsinha/Training/10_2025_genai_lab/.venv/lib/python3.13/site-packages (2.6.1)\n",
      "Requirement already satisfied: python-dotenv in /Users/amiteshsinha/Training/10_2025_genai_lab/.venv/lib/python3.13/site-packages (1.1.1)\n",
      "Requirement already satisfied: anyio<5,>=3.5.0 in /Users/amiteshsinha/Training/10_2025_genai_lab/.venv/lib/python3.13/site-packages (from openai) (4.11.0)\n",
      "Requirement already satisfied: distro<2,>=1.7.0 in /Users/amiteshsinha/Training/10_2025_genai_lab/.venv/lib/python3.13/site-packages (from openai) (1.9.0)\n",
      "Requirement already satisfied: httpx<1,>=0.23.0 in /Users/amiteshsinha/Training/10_2025_genai_lab/.venv/lib/python3.13/site-packages (from openai) (0.28.1)\n",
      "Requirement already satisfied: jiter<1,>=0.10.0 in /Users/amiteshsinha/Training/10_2025_genai_lab/.venv/lib/python3.13/site-packages (from openai) (0.11.1)\n",
      "Requirement already satisfied: pydantic<3,>=1.9.0 in /Users/amiteshsinha/Training/10_2025_genai_lab/.venv/lib/python3.13/site-packages (from openai) (2.12.3)\n",
      "Requirement already satisfied: sniffio in /Users/amiteshsinha/Training/10_2025_genai_lab/.venv/lib/python3.13/site-packages (from openai) (1.3.1)\n",
      "Requirement already satisfied: tqdm>4 in /Users/amiteshsinha/Training/10_2025_genai_lab/.venv/lib/python3.13/site-packages (from openai) (4.67.1)\n",
      "Requirement already satisfied: typing-extensions<5,>=4.11 in /Users/amiteshsinha/Training/10_2025_genai_lab/.venv/lib/python3.13/site-packages (from openai) (4.15.0)\n",
      "Requirement already satisfied: idna>=2.8 in /Users/amiteshsinha/Training/10_2025_genai_lab/.venv/lib/python3.13/site-packages (from anyio<5,>=3.5.0->openai) (3.11)\n",
      "Requirement already satisfied: certifi in /Users/amiteshsinha/Training/10_2025_genai_lab/.venv/lib/python3.13/site-packages (from httpx<1,>=0.23.0->openai) (2025.10.5)\n",
      "Requirement already satisfied: httpcore==1.* in /Users/amiteshsinha/Training/10_2025_genai_lab/.venv/lib/python3.13/site-packages (from httpx<1,>=0.23.0->openai) (1.0.9)\n",
      "Requirement already satisfied: h11>=0.16 in /Users/amiteshsinha/Training/10_2025_genai_lab/.venv/lib/python3.13/site-packages (from httpcore==1.*->httpx<1,>=0.23.0->openai) (0.16.0)\n",
      "Requirement already satisfied: annotated-types>=0.6.0 in /Users/amiteshsinha/Training/10_2025_genai_lab/.venv/lib/python3.13/site-packages (from pydantic<3,>=1.9.0->openai) (0.7.0)\n",
      "Requirement already satisfied: pydantic-core==2.41.4 in /Users/amiteshsinha/Training/10_2025_genai_lab/.venv/lib/python3.13/site-packages (from pydantic<3,>=1.9.0->openai) (2.41.4)\n",
      "Requirement already satisfied: typing-inspection>=0.4.2 in /Users/amiteshsinha/Training/10_2025_genai_lab/.venv/lib/python3.13/site-packages (from pydantic<3,>=1.9.0->openai) (0.4.2)\n",
      "\n",
      "\u001b[1m[\u001b[0m\u001b[34;49mnotice\u001b[0m\u001b[1;39;49m]\u001b[0m\u001b[39;49m A new release of pip is available: \u001b[0m\u001b[31;49m25.1.1\u001b[0m\u001b[39;49m -> \u001b[0m\u001b[32;49m25.3\u001b[0m\n",
      "\u001b[1m[\u001b[0m\u001b[34;49mnotice\u001b[0m\u001b[1;39;49m]\u001b[0m\u001b[39;49m To update, run: \u001b[0m\u001b[32;49mpip install --upgrade pip\u001b[0m\n",
      "Note: you may need to restart the kernel to use updated packages.\n"
     ]
    }
   ],
   "source": [
    "%pip install openai python-dotenv"
   ]
  },
  {
   "cell_type": "code",
   "execution_count": 7,
   "id": "998d4cdf",
   "metadata": {},
   "outputs": [],
   "source": [
    "import os\n",
    "from dotenv import load_dotenv"
   ]
  },
  {
   "cell_type": "code",
   "execution_count": 8,
   "id": "6fb797f4",
   "metadata": {},
   "outputs": [
    {
     "name": "stdout",
     "output_type": "stream",
     "text": [
      "sk-pr...B-O0A\n"
     ]
    }
   ],
   "source": [
    "load_dotenv(override=True, dotenv_path=\"../.env\")\n",
    "my_api_key = os.getenv(\"OPENAI_API_KEY\")\n",
    "\n",
    "print (my_api_key[:5] + \"...\" + my_api_key[-5:])"
   ]
  },
  {
   "cell_type": "markdown",
   "id": "fd5c4f11",
   "metadata": {},
   "source": [
    "'''\n",
    "gpt-5, gpt-5-mini, gpt-5-nano \n",
    "gpt-4.1, gpt-4.1-mini, gpt-4.1-nano \n",
    "gpt-4o, gpt-4o-mini, gpt-4o-nano "
   ]
  },
  {
   "cell_type": "code",
   "execution_count": null,
   "id": "d1ae0019",
   "metadata": {},
   "outputs": [],
   "source": [
    "#pip install openai\n",
    "from openai import OpenAI\n",
    "client = OpenAI(api_key=my_api_key)\n",
    "\n",
    "def ask_question(prompt):\n",
    "    print(f\"User asked: {prompt}\")\n",
    "    response = client.chat.completions.create(\n",
    "        model=\"gpt-5-nano\",\n",
    "        messages=[\n",
    "            {\"role\": \"system\", \"content\": \"You are a creative property listing assistant that generates a very cool property description based on the user input. Be creative!\"},\n",
    "            {\"role\": \"user\", \"content\": prompt}\n",
    "        ]\n",
    "    )\n",
    "    print (response)\n",
    "    return response.choices[0].message.content  \n",
    "    # response.choices[0].message.content "
   ]
  },
  {
   "cell_type": "code",
   "execution_count": null,
   "id": "90daaf52",
   "metadata": {},
   "outputs": [],
   "source": [
    "user_prompt = input(\"Ask something: \")\n",
    "\n",
    "response = ask_question(user_prompt)\n",
    "print(\"\\nOpenAI says:\", response)"
   ]
  },
  {
   "cell_type": "code",
   "execution_count": null,
   "id": "a20d6cd0",
   "metadata": {},
   "outputs": [],
   "source": [
    "import time\n",
    "while True:\n",
    "    # Ask user for a question\n",
    "    user_prompt = input(\"Ask something: \")\n",
    "\n",
    "    if (user_prompt.lower() != 'quit'):\n",
    "        # Get and print the response\n",
    "        response = ask_question(user_prompt)\n",
    "        print(\"\\nOpenAI says:\", response)\n",
    "        \n",
    "        # add delay of 3 seconds\n",
    "        time.sleep(3)\n",
    "    else:\n",
    "        print(\"Exiting the loop. Goodbye!\")\n",
    "        break    "
   ]
  },
  {
   "cell_type": "code",
   "execution_count": null,
   "id": "d89438bd",
   "metadata": {},
   "outputs": [],
   "source": []
  }
 ],
 "metadata": {
  "kernelspec": {
   "display_name": ".venv",
   "language": "python",
   "name": "python3"
  },
  "language_info": {
   "codemirror_mode": {
    "name": "ipython",
    "version": 3
   },
   "file_extension": ".py",
   "mimetype": "text/x-python",
   "name": "python",
   "nbconvert_exporter": "python",
   "pygments_lexer": "ipython3",
   "version": "3.13.5"
  }
 },
 "nbformat": 4,
 "nbformat_minor": 5
}
