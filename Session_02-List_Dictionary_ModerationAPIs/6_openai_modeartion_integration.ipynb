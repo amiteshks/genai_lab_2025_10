{
 "cells": [
  {
   "cell_type": "code",
   "execution_count": 2,
   "id": "4fe22987",
   "metadata": {},
   "outputs": [],
   "source": [
    "import os\n",
    "from dotenv import load_dotenv"
   ]
  },
  {
   "cell_type": "code",
   "execution_count": 3,
   "id": "bc4e0b87",
   "metadata": {},
   "outputs": [
    {
     "name": "stdout",
     "output_type": "stream",
     "text": [
      "None\n"
     ]
    }
   ],
   "source": [
    "load_dotenv(override=True, dotenv_path=\"../.env\")\n",
    "my_api_key = os.getenv(\"OPEN_AI_API_KEY\")\n",
    "\n",
    "print (my_api_key)\n"
   ]
  },
  {
   "cell_type": "code",
   "execution_count": 4,
   "id": "d1fcd1e9",
   "metadata": {},
   "outputs": [],
   "source": [
    "# %pip install openai"
   ]
  },
  {
   "cell_type": "code",
   "execution_count": 5,
   "id": "35e985da",
   "metadata": {},
   "outputs": [],
   "source": [
    "from openai import OpenAI   \n",
    "client = OpenAI(api_key=my_api_key)"
   ]
  },
  {
   "cell_type": "code",
   "execution_count": 6,
   "id": "f6497418",
   "metadata": {},
   "outputs": [],
   "source": [
    "def ask_question(prompt: str) -> str:\n",
    "    \"\"\"\n",
    "    Ask a question to GPT, with moderation check.\n",
    "    If the prompt is flagged, it will not be sent to the chat model.\n",
    "    \"\"\"\n",
    "    print(f\"User asked: {prompt}\")\n",
    "\n",
    "    # Step 1: Run moderation check\n",
    "    mod_result = client.moderations.create(\n",
    "        model=\"omni-moderation-latest\",\n",
    "        input=prompt\n",
    "    )\n",
    "\n",
    "    print(f\"Moderation result: {mod_result}\")\n",
    "    print(f\"mod_result.results[0].flagged result: {mod_result.results[0].flagged}\")\n",
    "    # Check if flagged\n",
    "    if mod_result.results[0].flagged:\n",
    "        print(\"Prompt was flagged by moderation. Blocking response.\")\n",
    "        return \"Sorry, your request cannot be processed as it violates safety policies.\"\n",
    "\n",
    "    # Step 2: Only query GPT if safe\n",
    "    response = client.chat.completions.create(\n",
    "        model=\"gpt-5-nano\",  # Use your desired model\n",
    "        messages=[\n",
    "            {\"role\": \"system\", \"content\": \"You are a helpful assistant. Answer as concisely as possible.\"},\n",
    "            {\"role\": \"user\", \"content\": prompt}\n",
    "        ]\n",
    "    )\n",
    "\n",
    "    answer = response.choices[0].message.content\n",
    "    print(f\"Assistant replied: {answer}\")\n",
    "    return answer\n"
   ]
  },
  {
   "cell_type": "code",
   "execution_count": 7,
   "id": "73466cdd",
   "metadata": {},
   "outputs": [
    {
     "name": "stdout",
     "output_type": "stream",
     "text": [
      "User asked: You're really annoying and I don’t want to work with you anymore.\n",
      "Moderation result: ModerationCreateResponse(id='modr-3023', model='omni-moderation-latest', results=[Moderation(categories=Categories(harassment=True, harassment_threatening=False, hate=False, hate_threatening=False, illicit=False, illicit_violent=False, self_harm=False, self_harm_instructions=False, self_harm_intent=False, sexual=False, sexual_minors=False, violence=False, violence_graphic=False, harassment/threatening=False, hate/threatening=False, illicit/violent=False, self-harm/intent=False, self-harm/instructions=False, self-harm=False, sexual/minors=False, violence/graphic=False), category_applied_input_types=CategoryAppliedInputTypes(harassment=['text'], harassment_threatening=['text'], hate=['text'], hate_threatening=['text'], illicit=['text'], illicit_violent=['text'], self_harm=['text'], self_harm_instructions=['text'], self_harm_intent=['text'], sexual=['text'], sexual_minors=['text'], violence=['text'], violence_graphic=['text'], harassment/threatening=['text'], hate/threatening=['text'], illicit/violent=['text'], self-harm/intent=['text'], self-harm/instructions=['text'], self-harm=['text'], sexual/minors=['text'], violence/graphic=['text']), category_scores=CategoryScores(harassment=0.6456620145260393, harassment_threatening=0.000782004817350045, hate=2.305067219931397e-05, hate_threatening=2.994440981371515e-07, illicit=1.7130819343483194e-05, illicit_violent=2.586743108135441e-06, self_harm=0.00045504740472045987, self_harm_instructions=2.0785170435063726e-06, self_harm_intent=0.0002167744747109176, sexual=2.0662982488383408e-05, sexual_minors=6.748051590048605e-07, violence=0.0004883566612863065, violence_graphic=1.0783312222985275e-06, harassment/threatening=0.000782004817350045, hate/threatening=2.994440981371515e-07, illicit/violent=2.586743108135441e-06, self-harm/intent=0.0002167744747109176, self-harm/instructions=2.0785170435063726e-06, self-harm=0.00045504740472045987, sexual/minors=6.748051590048605e-07, violence/graphic=1.0783312222985275e-06), flagged=True)])\n",
      "mod_result.results[0].flagged result: True\n",
      "Prompt was flagged by moderation. Blocking response.\n",
      "Sorry, your request cannot be processed as it violates safety policies.\n"
     ]
    }
   ],
   "source": [
    "# print(ask_question(\"How do I bake a chocolate cake?\"))\n",
    "print(ask_question(\"You're really annoying and I don’t want to work with you anymore.\"))  # Will be flagged by moderation\n"
   ]
  },
  {
   "cell_type": "code",
   "execution_count": null,
   "id": "18128a09",
   "metadata": {},
   "outputs": [],
   "source": []
  }
 ],
 "metadata": {
  "kernelspec": {
   "display_name": ".venv",
   "language": "python",
   "name": "python3"
  },
  "language_info": {
   "codemirror_mode": {
    "name": "ipython",
    "version": 3
   },
   "file_extension": ".py",
   "mimetype": "text/x-python",
   "name": "python",
   "nbconvert_exporter": "python",
   "pygments_lexer": "ipython3",
   "version": "3.13.5"
  }
 },
 "nbformat": 4,
 "nbformat_minor": 5
}
