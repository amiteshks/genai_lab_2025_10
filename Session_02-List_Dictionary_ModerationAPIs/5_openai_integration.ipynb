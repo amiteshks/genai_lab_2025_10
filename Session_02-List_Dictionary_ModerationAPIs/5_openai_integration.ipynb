{
 "cells": [
  {
   "cell_type": "code",
   "execution_count": 1,
   "id": "bc4e0b87",
   "metadata": {},
   "outputs": [],
   "source": [
    "import os\n",
    "from dotenv import load_dotenv\n",
    "\n",
    "load_dotenv(override=True, dotenv_path=\"../.env\")\n",
    "my_api_key = os.getenv(\"OPENAI_API_KEY\")\n",
    "\n",
    "# print (my_api_key)\n"
   ]
  },
  {
   "cell_type": "code",
   "execution_count": null,
   "id": "d1fcd1e9",
   "metadata": {},
   "outputs": [],
   "source": [
    "# %pip install openai"
   ]
  },
  {
   "cell_type": "code",
   "execution_count": 2,
   "id": "35e985da",
   "metadata": {},
   "outputs": [
    {
     "data": {
      "text/plain": [
       "<openai.OpenAI at 0x118a696a0>"
      ]
     },
     "execution_count": 2,
     "metadata": {},
     "output_type": "execute_result"
    }
   ],
   "source": [
    "from openai import OpenAI\n",
    "my_client = OpenAI(api_key=my_api_key)\n",
    "my_client"
   ]
  },
  {
   "cell_type": "code",
   "execution_count": null,
   "id": "f6497418",
   "metadata": {},
   "outputs": [],
   "source": [
    "def ask_question(prompt):\n",
    "    print(f\"User asked: {prompt}\")\n",
    "    # my_client.chat.completions.create\n",
    "    system_prompt_message={\"role\": \"system\", \"content\": \"You are a helpful assistant. Answer as concisely as possible.\"}\n",
    "    user_prompt_message={\"role\": \"user\", \"content\": prompt}\n",
    "    llm_response = my_client.chat.completions.create(\n",
    "        model=\"gpt-5-nano\",\n",
    "        messages=[system_prompt_message, user_prompt_message]   \n",
    "    )\n",
    "    print (llm_response)\n",
    "\n",
    "    # prompt = ChatPromptTemplate.from_messages([\n",
    "    #     (\"system\", \"You are a helpful assistant.\"),\n",
    "    #     (\"human\", \"{question}\")\n",
    "    # ])\n",
    "    # # print(prompt.invoke({\"question\": \"What is AI?\"}))\n",
    "    # prompt | llm\n",
    "    # llm = OpenAI(model=\"gpt-5-nano\")\n",
    "\n",
    "    return llm_response.choices[0].message.content  \n",
    "\n",
    "    # parser = StrOutputParser()\n",
    "    # result = parser.invoke(resp)\n",
    "    # return result\n"
   ]
  },
  {
   "cell_type": "code",
   "execution_count": 4,
   "id": "73466cdd",
   "metadata": {},
   "outputs": [
    {
     "name": "stdout",
     "output_type": "stream",
     "text": [
      "User asked: where is holland?\n",
      "ChatCompletion(id='chatcmpl-CW4HBreUxea8YJERNLDfuFWYSMvbP', choices=[Choice(finish_reason='stop', index=0, logprobs=None, message=ChatCompletionMessage(content='Holland is a region in the Netherlands, in Northwestern Europe. The name usually refers to two provinces: North Holland (Noord-Holland) and South Holland (Zuid-Holland), which include Amsterdam, Haarlem (North) and The Hague, Rotterdam, Leiden (South). If you mean the country, that’s the Netherlands.', refusal=None, role='assistant', annotations=[], audio=None, function_call=None, tool_calls=None))], created=1761758969, model='gpt-5-nano-2025-08-07', object='chat.completion', service_tier='default', system_fingerprint=None, usage=CompletionUsage(completion_tokens=522, prompt_tokens=28, total_tokens=550, completion_tokens_details=CompletionTokensDetails(accepted_prediction_tokens=0, audio_tokens=0, reasoning_tokens=448, rejected_prediction_tokens=0), prompt_tokens_details=PromptTokensDetails(audio_tokens=0, cached_tokens=0)))\n",
      "\n",
      "OpenAI says: Holland is a region in the Netherlands, in Northwestern Europe. The name usually refers to two provinces: North Holland (Noord-Holland) and South Holland (Zuid-Holland), which include Amsterdam, Haarlem (North) and The Hague, Rotterdam, Leiden (South). If you mean the country, that’s the Netherlands.\n",
      "Exiting...\n"
     ]
    }
   ],
   "source": [
    "import time\n",
    "while True:\n",
    "    # Ask user for a question\n",
    "    user_prompt = input(\"Ask something: \")\n",
    "\n",
    "    if (user_prompt.lower() != 'quit'):\n",
    "        # Get and print the response\n",
    "        response = ask_question(user_prompt)\n",
    "        print(\"\\nOpenAI says:\", response)\n",
    "        \n",
    "        # add delay of 3 seconds\n",
    "        time.sleep(3)\n",
    "    else:\n",
    "        print(\"Exiting...\")\n",
    "        break    "
   ]
  }
 ],
 "metadata": {
  "kernelspec": {
   "display_name": ".venv",
   "language": "python",
   "name": "python3"
  },
  "language_info": {
   "codemirror_mode": {
    "name": "ipython",
    "version": 3
   },
   "file_extension": ".py",
   "mimetype": "text/x-python",
   "name": "python",
   "nbconvert_exporter": "python",
   "pygments_lexer": "ipython3",
   "version": "3.13.5"
  }
 },
 "nbformat": 4,
 "nbformat_minor": 5
}
