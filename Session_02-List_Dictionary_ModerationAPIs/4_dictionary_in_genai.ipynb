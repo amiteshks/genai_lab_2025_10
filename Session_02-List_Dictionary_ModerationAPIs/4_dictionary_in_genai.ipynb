{
 "cells": [
  {
   "cell_type": "code",
   "execution_count": 1,
   "id": "8fce9034",
   "metadata": {},
   "outputs": [
    {
     "name": "stdout",
     "output_type": "stream",
     "text": [
      "It rains in Fall\n"
     ]
    },
    {
     "data": {
      "text/plain": [
       "'It rains in Fall'"
      ]
     },
     "execution_count": 1,
     "metadata": {},
     "output_type": "execute_result"
    }
   ],
   "source": [
    "# Key Value Pair\n",
    "messages_history = {\"user_prompt\": \"When does it rain in California?\",\n",
    "            \"system_response\": \"It rains in Fall\"}\n",
    "\n",
    "\n",
    "print (messages_history[\"system_response\"])  # It rains in Fall\n",
    "\n",
    "\n",
    "messages_history.get(\"system_response\")  # It rains in Fall\n"
   ]
  },
  {
   "cell_type": "code",
   "execution_count": 2,
   "id": "6c871766",
   "metadata": {},
   "outputs": [
    {
     "name": "stdout",
     "output_type": "stream",
     "text": [
      " 1: {'role': 'user', 'content': 'When does it rain in California?'}\n",
      " 2: {'role': 'system', 'content': 'It rais in Fall'}\n"
     ]
    }
   ],
   "source": [
    "\n",
    "message_user = {\"role\": \"user\", \"content\": \"When does it rain in California?\"}\n",
    "message_system = {\"role\": \"system\", \"content\": \"It rais in Fall\"}\n",
    "\n",
    "#List of Dictionary\n",
    "messages = [message_user, message_system] # Key Value Pair\n",
    "\n",
    "i = 0\n",
    "for message in messages:\n",
    "    print(f\" {i+1}: {message}\")\n",
    "    \n",
    "    i+=1"
   ]
  },
  {
   "cell_type": "code",
   "execution_count": null,
   "id": "850026f4",
   "metadata": {},
   "outputs": [],
   "source": []
  }
 ],
 "metadata": {
  "kernelspec": {
   "display_name": ".venv",
   "language": "python",
   "name": "python3"
  },
  "language_info": {
   "codemirror_mode": {
    "name": "ipython",
    "version": 3
   },
   "file_extension": ".py",
   "mimetype": "text/x-python",
   "name": "python",
   "nbconvert_exporter": "python",
   "pygments_lexer": "ipython3",
   "version": "3.13.5"
  }
 },
 "nbformat": 4,
 "nbformat_minor": 5
}
